{
 "cells": [
  {
   "cell_type": "code",
   "execution_count": 18,
   "metadata": {},
   "outputs": [
    {
     "name": "stdout",
     "output_type": "stream",
     "text": [
      "Populating the interactive namespace from numpy and matplotlib\n"
     ]
    }
   ],
   "source": [
    "import pandas as pd\n",
    "%pylab inline\n",
    "from scipy import stats"
   ]
  },
  {
   "cell_type": "code",
   "execution_count": 96,
   "metadata": {},
   "outputs": [],
   "source": [
    "# for i in rts ;do for j in BentCigarFunction KatsuuraEvaluation SchaffersEvaluation SphereEvaluation;do for k in `seq 0 99` ; do sed -i 's/^/'$i','$j','$k',/' ${i}-${j}_results/$k.csv;echo done $i $j $k ; done ; done ; done\n",
    "# cat *_results/*.csv > big.csv\n",
    "df=pd.read_csv('/Users/theofpa/Developer/evolutionary-computing/diversity-experiments/results1/big.csv',header=None,names=['method','fun','seed','generation','island_id','maximum_fitness','average_fitness','average_age','diversity'])"
   ]
  },
  {
   "cell_type": "code",
   "execution_count": 2,
   "metadata": {},
   "outputs": [],
   "source": [
    "df=pd.DataFrame()\n",
    "for i in ['baseline','gender','island','trs','taboo']:\n",
    "    for j in ['BentCigarFunction','KatsuuraEvaluation','SchaffersEvaluation','SphereEvaluation']:\n",
    "        for k in range(0,100):\n",
    "            dfi=pd.read_csv('/Users/theofpa/Developer/evolutionary-computing/diversity-experiments/results/'+str(i)+'-'+str(j)+'_results/'+str(k)+'.csv',header=None,names=['generation','island_id','maximum_fitness','average_fitness','average_age','diversity'])\n",
    "            dfi['seed']=k\n",
    "            dfi['fun']=j\n",
    "            dfi['method']=i\n",
    "            df=df.append(dfi,ignore_index=True)"
   ]
  },
  {
   "cell_type": "code",
   "execution_count": 106,
   "metadata": {},
   "outputs": [],
   "source": [
    "df=df[df['seed'] != 93]"
   ]
  },
  {
   "cell_type": "code",
   "execution_count": 134,
   "metadata": {
    "scrolled": true
   },
   "outputs": [
    {
     "data": {
      "text/plain": [
       "<matplotlib.axes._subplots.AxesSubplot at 0x11bdf8550>"
      ]
     },
     "execution_count": 134,
     "metadata": {},
     "output_type": "execute_result"
    },
    {
     "data": {
      "image/png": "[encoded data removed]",
      "text/plain": [
       "<matplotlib.figure.Figure at 0x11bdcf6a0>"
      ]
     },
     "metadata": {},
     "output_type": "display_data"
    }
   ],
   "source": [
    "df[(df['fun']=='SchaffersEvaluation')&(df['method']=='baseline')].groupby('seed').mean()['diversity'].hist(bins=100)"
   ]
  },
  {
   "cell_type": "code",
   "execution_count": 38,
   "metadata": {},
   "outputs": [
    {
     "data": {
      "text/plain": [
       "<matplotlib.axes._subplots.AxesSubplot at 0x11afcd3c8>"
      ]
     },
     "execution_count": 38,
     "metadata": {},
     "output_type": "execute_result"
    },
    {
     "data": {
      "image/png": "[encoded data removed]",
      "text/plain": [
       "<matplotlib.figure.Figure at 0x119eaf780>"
      ]
     },
     "metadata": {},
     "output_type": "display_data"
    }
   ],
   "source": [
    "df[(df['fun']=='SchaffersEvaluation')&(df['method']=='gender')].groupby('seed').max()['maximum_fitness'].hist(bins=100)"
   ]
  },
  {
   "cell_type": "code",
   "execution_count": 122,
   "metadata": {},
   "outputs": [],
   "source": [
    "results=pd.DataFrame()\n",
    "methods=['baseline','gender','island','rts','taboo']\n",
    "fun=['BentCigarFunction','KatsuuraEvaluation','SchaffersEvaluation','SphereEvaluation']\n",
    "for i in range(1,5):\n",
    "    for j in range(0,4):\n",
    "        results=results.append(pd.DataFrame([[fun[j],methods[i],stats.wilcoxon(\n",
    "            df[(df['fun']==fun[j])&(df['method']=='baseline')].groupby('seed').max()['maximum_fitness'],\n",
    "            df[(df['fun']==fun[j])&(df['method']==methods[i])].groupby('seed').max()['maximum_fitness']\n",
    "        ).pvalue]]))"
   ]
  },
  {
   "cell_type": "code",
   "execution_count": 129,
   "metadata": {},
   "outputs": [],
   "source": [
    "results.columns=['function','method','pvalue']"
   ]
  },
  {
   "cell_type": "code",
   "execution_count": 150,
   "metadata": {},
   "outputs": [
    {
     "name": "stdout",
     "output_type": "stream",
     "text": [
      "\\begin{tabular}{lllr}\n",
      "\\toprule\n",
      "{} &             function &  method &        pvalue \\\\\n",
      "\\midrule\n",
      "0 &  SchaffersEvaluation &  gender &  7.854355e-01 \\\\\n",
      "0 &   KatsuuraEvaluation &  island &  2.655356e-01 \\\\\n",
      "0 &  SchaffersEvaluation &   taboo &  1.271951e-01 \\\\\n",
      "0 &    BentCigarFunction &  gender &  7.796860e-02 \\\\\n",
      "0 &    BentCigarFunction &   taboo &  6.585891e-02 \\\\\n",
      "0 &  SchaffersEvaluation &     rts &  3.113789e-03 \\\\\n",
      "0 &  SchaffersEvaluation &  island &  5.799743e-05 \\\\\n",
      "0 &    BentCigarFunction &  island &  7.365178e-08 \\\\\n",
      "0 &     SphereEvaluation &  gender &  3.858550e-08 \\\\\n",
      "0 &     SphereEvaluation &   taboo &  3.681486e-13 \\\\\n",
      "0 &   KatsuuraEvaluation &  gender &  2.902327e-15 \\\\\n",
      "0 &   KatsuuraEvaluation &     rts &  5.443446e-17 \\\\\n",
      "0 &     SphereEvaluation &  island &  9.853561e-18 \\\\\n",
      "0 &    BentCigarFunction &     rts &  6.436988e-18 \\\\\n",
      "0 &     SphereEvaluation &     rts &  5.697221e-18 \\\\\n",
      "0 &   KatsuuraEvaluation &   taboo &  5.697221e-18 \\\\\n",
      "\\bottomrule\n",
      "\\end{tabular}\n",
      "\n"
     ]
    }
   ],
   "source": [
    "print(results.sort_values('pvalue',ascending=False).to_latex())"
   ]
  },
  {
   "cell_type": "code",
   "execution_count": 143,
   "metadata": {},
   "outputs": [],
   "source": [
    "diversity=pd.DataFrame()\n",
    "methods=['baseline','gender','island','rts','taboo']\n",
    "fun=['BentCigarFunction','KatsuuraEvaluation','SchaffersEvaluation','SphereEvaluation']\n",
    "for i in range(1,5):\n",
    "    for j in range(0,4):\n",
    "        diversity=diversity.append(pd.DataFrame([[fun[j],methods[i],stats.wilcoxon(\n",
    "            df[(df['fun']==fun[j])&(df['method']=='baseline')].groupby('seed').mean()['diversity'],\n",
    "            df[(df['fun']==fun[j])&(df['method']==methods[i])].groupby('seed').mean()['diversity']\n",
    "        ).pvalue]]),ignore_index=True)"
   ]
  },
  {
   "cell_type": "code",
   "execution_count": 144,
   "metadata": {},
   "outputs": [],
   "source": [
    "diversity.columns=['function','method','pvalue']"
   ]
  },
  {
   "cell_type": "code",
   "execution_count": 154,
   "metadata": {},
   "outputs": [
    {
     "name": "stdout",
     "output_type": "stream",
     "text": [
      "\\begin{tabular}{lllr}\n",
      "\\toprule\n",
      "{} &             function &  method &        pvalue \\\\\n",
      "\\midrule\n",
      "2  &  SchaffersEvaluation &  gender &  3.623135e-01 \\\\\n",
      "12 &    BentCigarFunction &   taboo &  3.389008e-01 \\\\\n",
      "14 &  SchaffersEvaluation &   taboo &  8.467118e-02 \\\\\n",
      "0  &    BentCigarFunction &  gender &  1.042236e-07 \\\\\n",
      "6  &  SchaffersEvaluation &  island &  8.272353e-08 \\\\\n",
      "15 &     SphereEvaluation &   taboo &  6.597503e-09 \\\\\n",
      "3  &     SphereEvaluation &  gender &  9.121435e-16 \\\\\n",
      "1  &   KatsuuraEvaluation &  gender &  1.011741e-16 \\\\\n",
      "4  &    BentCigarFunction &  island &  6.243608e-18 \\\\\n",
      "5  &   KatsuuraEvaluation &  island &  6.055965e-18 \\\\\n",
      "7  &     SphereEvaluation &  island &  5.697221e-18 \\\\\n",
      "8  &    BentCigarFunction &     rts &  5.697221e-18 \\\\\n",
      "9  &   KatsuuraEvaluation &     rts &  5.697221e-18 \\\\\n",
      "10 &  SchaffersEvaluation &     rts &  5.697221e-18 \\\\\n",
      "11 &     SphereEvaluation &     rts &  5.697221e-18 \\\\\n",
      "13 &   KatsuuraEvaluation &   taboo &  5.697221e-18 \\\\\n",
      "\\bottomrule\n",
      "\\end{tabular}\n",
      "\n"
     ]
    }
   ],
   "source": [
    "print(diversity.sort_values('pvalue',ascending=False).to_latex())"
   ]
  },
  {
   "cell_type": "code",
   "execution_count": 73,
   "metadata": {},
   "outputs": [
    {
     "data": {
      "text/plain": [
       "Ttest_indResult(statistic=-0.344321127335534, pvalue=0.7309720685188259)"
      ]
     },
     "execution_count": 73,
     "metadata": {},
     "output_type": "execute_result"
    }
   ],
   "source": [
    "stats.ttest_ind(df[(df['fun']=='BentCigarFunction')&(df['method']=='baseline')].groupby('seed').max()['maximum_fitness'],\n",
    "                df[(df['fun']=='BentCigarFunction')&(df['method']=='gender')].groupby('seed').max()['maximum_fitness'])"
   ]
  }
 ],
 "metadata": {
  "kernelspec": {
   "display_name": "Python 3",
   "language": "python",
   "name": "python3"
  },
  "language_info": {
   "codemirror_mode": {
    "name": "ipython",
    "version": 3
   },
   "file_extension": ".py",
   "mimetype": "text/x-python",
   "name": "python",
   "nbconvert_exporter": "python",
   "pygments_lexer": "ipython3",
   "version": "3.6.4"
  }
 },
 "nbformat": 4,
 "nbformat_minor": 2
}
